{
 "cells": [
  {
   "cell_type": "code",
   "execution_count": 1,
   "metadata": {
    "id": "7V1RIUQKXQ-g"
   },
   "outputs": [],
   "source": [
    "import tensorflow_datasets as tfds\n",
    "from tensorflow.keras.layers import *\n",
    "from tensorflow.keras import Model\n",
    "import tensorflow as tf\n",
    "\n",
    "from sklearn.model_selection import train_test_split\n",
    "import numpy as np"
   ]
  },
  {
   "cell_type": "markdown",
   "metadata": {},
   "source": [
    "## Load data"
   ]
  },
  {
   "cell_type": "code",
   "execution_count": 2,
   "metadata": {
    "id": "YYfj6fRj9FWa"
   },
   "outputs": [],
   "source": [
    "dataset, info = tfds.load(\n",
    "    \"uc_merced\",\n",
    "    split=['train'],\n",
    "    with_info=True,\n",
    "    batch_size=-1\n",
    "\n",
    ")"
   ]
  },
  {
   "cell_type": "code",
   "execution_count": 3,
   "metadata": {
    "colab": {
     "base_uri": "https://localhost:8080/"
    },
    "id": "vqIhtIRo7yVe",
    "outputId": "a65daefc-365c-4ef5-ddb2-0fb90eab8f6b"
   },
   "outputs": [
    {
     "data": {
      "text/plain": [
       "tfds.core.DatasetInfo(\n",
       "    name='uc_merced',\n",
       "    full_name='uc_merced/2.0.0',\n",
       "    description=\"\"\"\n",
       "    UC Merced is a 21 class land use remote sensing image dataset, with 100 images\n",
       "    per class. The images were manually extracted from large images from the USGS\n",
       "    National Map Urban Area Imagery collection for various urban areas around the\n",
       "    country. The pixel resolution of this public domain imagery is 0.3 m.\n",
       "    \n",
       "    While most images are 256x256 pixels, there are 44 images with different shape.\n",
       "    \"\"\",\n",
       "    homepage='http://weegee.vision.ucmerced.edu/datasets/landuse.html',\n",
       "    data_path='dataset/uc_merced/2.0.0',\n",
       "    file_format=tfrecord,\n",
       "    download_size=317.07 MiB,\n",
       "    dataset_size=238.63 MiB,\n",
       "    features=FeaturesDict({\n",
       "        'filename': Text(shape=(), dtype=string),\n",
       "        'image': Image(shape=(None, None, 3), dtype=uint8),\n",
       "        'label': ClassLabel(shape=(), dtype=int64, num_classes=21),\n",
       "    }),\n",
       "    supervised_keys=('image', 'label'),\n",
       "    disable_shuffling=False,\n",
       "    splits={\n",
       "        'train': <SplitInfo num_examples=2100, num_shards=2>,\n",
       "    },\n",
       "    citation=\"\"\"@InProceedings{Nilsback08,\n",
       "       author = \"Yang, Yi and Newsam, Shawn\",\n",
       "       title = \"Bag-Of-Visual-Words and Spatial Extensions for Land-Use Classification\",\n",
       "       booktitle = \"ACM SIGSPATIAL International Conference on Advances in Geographic Information Systems (ACM GIS)\",\n",
       "       year = \"2010\",\n",
       "    }\"\"\",\n",
       ")"
      ]
     },
     "execution_count": 3,
     "metadata": {},
     "output_type": "execute_result"
    }
   ],
   "source": [
    "info"
   ]
  },
  {
   "cell_type": "markdown",
   "metadata": {},
   "source": [
    "## Data processing"
   ]
  },
  {
   "cell_type": "code",
   "execution_count": 4,
   "metadata": {
    "id": "ZHvOFcQ08wZk"
   },
   "outputs": [],
   "source": [
    "def preprocess(image):\n",
    "    image = tf.cast(image, tf.float32)\n",
    "    image = (image/127.5) - 1\n",
    "    image = tf.image.resize(image, (64, 64))\n",
    "    return image"
   ]
  },
  {
   "cell_type": "code",
   "execution_count": 5,
   "metadata": {
    "id": "ZgfFpPrSiRpP"
   },
   "outputs": [],
   "source": [
    "images = []\n",
    "for i in tfds.as_numpy(dataset[0])[0]:\n",
    "    images.append(preprocess(i))\n",
    "\n",
    "images = np.array(images)\n",
    "labels = tfds.as_numpy(dataset[0])[1].astype('uint32')"
   ]
  },
  {
   "cell_type": "code",
   "execution_count": 6,
   "metadata": {
    "colab": {
     "base_uri": "https://localhost:8080/"
    },
    "id": "LV96oq-w3h1t",
    "outputId": "0b892143-89df-46bf-95e8-dad4d2904318"
   },
   "outputs": [
    {
     "data": {
      "text/plain": [
       "((2100, 64, 64, 3), (2100,))"
      ]
     },
     "execution_count": 6,
     "metadata": {},
     "output_type": "execute_result"
    }
   ],
   "source": [
    "images.shape, labels.shape"
   ]
  },
  {
   "cell_type": "code",
   "execution_count": 7,
   "metadata": {
    "colab": {
     "base_uri": "https://localhost:8080/"
    },
    "id": "8DRjcQ1Q7YwB",
    "outputId": "56c64be0-8a1d-4e46-c0f5-ffddb968cb8b"
   },
   "outputs": [
    {
     "data": {
      "text/plain": [
       "((1890, 64, 64, 3), (210, 64, 64, 3), (1890,), (210,))"
      ]
     },
     "execution_count": 7,
     "metadata": {},
     "output_type": "execute_result"
    }
   ],
   "source": [
    "X_train, X_test, y_train, y_test = train_test_split(images, labels, test_size=0.1, random_state=42)\n",
    "X_train.shape, X_test.shape, y_train.shape, y_test.shape"
   ]
  },
  {
   "cell_type": "markdown",
   "metadata": {},
   "source": [
    "## Build model"
   ]
  },
  {
   "cell_type": "code",
   "execution_count": 8,
   "metadata": {
    "id": "tXkHtBblaevq"
   },
   "outputs": [],
   "source": [
    "def inception_layer(x, filters):\n",
    "\n",
    "    f1, f2_1, f2_2, f3_1, f3_2, f4 = filters\n",
    "\n",
    "    x1 = Conv2D(f1, (1, 1), padding='same', activation='relu')(x)\n",
    "\n",
    "    x2 = Conv2D(f2_1, (1, 1), padding='same', activation='relu')(x)\n",
    "    x2 = Conv2D(f2_2, (3, 3), padding='same', activation='relu')(x2)\n",
    "\n",
    "    x3 = Conv2D(f3_1, (1, 1), padding='same', activation='relu')(x)\n",
    "    x3 = Conv2D(f3_2, (5, 5), padding='same', activation='relu')(x3)\n",
    "\n",
    "    x4 = MaxPool2D((3, 3), strides=(1, 1), padding='same')(x)\n",
    "    x4 = Conv2D(f4, (1, 1), padding='same', activation='relu')(x4)\n",
    "\n",
    "    output = concatenate([x1, x2, x3, x4], axis=3)\n",
    "\n",
    "    return output"
   ]
  },
  {
   "cell_type": "code",
   "execution_count": 9,
   "metadata": {
    "id": "h0rggnO56IEj"
   },
   "outputs": [],
   "source": [
    "def InceptionNet(input_shape=(224,224,3), num_classes=10):\n",
    "    x_input = Input(input_shape)\n",
    "\n",
    "    x = UpSampling2D(size=(7,7))(x_input)\n",
    "\n",
    "    x = Conv2D(64, (7, 7), padding='same', strides=(2, 2), activation='relu')(x)\n",
    "    x = MaxPool2D((3, 3), padding='same', strides=(2, 2))(x)\n",
    "    x = Conv2D(64, (1, 1), padding='same', strides=(1, 1), activation='relu')(x)\n",
    "    x = Conv2D(192, (3, 3), padding='same', strides=(1, 1), activation='relu')(x)\n",
    "    x = MaxPool2D((3, 3), padding='same', strides=(2, 2))(x)\n",
    "\n",
    "    x = inception_layer(x, [64, 96, 128, 16, 32, 32])\n",
    "    x = inception_layer(x, [128, 128, 192, 32, 96, 64])\n",
    "\n",
    "    x = MaxPool2D((3, 3), padding='same', strides=(2, 2))(x)\n",
    "\n",
    "    x = inception_layer(x, [192, 96, 208, 16, 48, 64])\n",
    "\n",
    "    x1 = AveragePooling2D(5, strides=3)(x)\n",
    "    x1 = Conv2D(128, (1, 1), padding='same', activation='relu')(x1)\n",
    "    x1 = Flatten()(x1)\n",
    "    x1 = Dense(1024, activation='relu')(x1)\n",
    "    x1 = Dense(num_classes, activation='softmax')(x1)\n",
    "\n",
    "    x = inception_layer(x, [160, 112, 224, 24, 64, 64])\n",
    "    x = inception_layer(x, [128, 128, 256, 24, 64, 64])\n",
    "    x = inception_layer(x, [112, 144, 288, 32, 64, 64])\n",
    "\n",
    "    x2 = AveragePooling2D((5, 5), strides=3)(x)\n",
    "    x2 = Conv2D(128, (1, 1), padding='same', activation='relu')(x2)\n",
    "    x2 = Flatten()(x2)\n",
    "    x2 = Dense(1024, activation='relu')(x2)\n",
    "    x2 = Dense(num_classes, activation='softmax')(x2)\n",
    "\n",
    "    x = inception_layer(x, [256, 160, 320, 32, 128, 128])\n",
    "\n",
    "    x = MaxPool2D((3, 3), padding='same', strides=(2, 2))(x)\n",
    "\n",
    "    x = inception_layer(x, [256, 160, 320, 32, 128, 128])\n",
    "    x = inception_layer(x, [384, 192, 384, 48, 128, 128])\n",
    "    x = AveragePooling2D()(x)\n",
    "\n",
    "    x = Flatten()(x)\n",
    "    x = Dense(num_classes, activation='softmax')(x)\n",
    "\n",
    "    model = Model(inputs=x_input, outputs=[x, x2, x1], name='InceptionNet')\n",
    "    return model"
   ]
  },
  {
   "cell_type": "code",
   "execution_count": 10,
   "metadata": {
    "colab": {
     "base_uri": "https://localhost:8080/"
    },
    "id": "f7NyxZVs6aR2",
    "outputId": "482f4ea3-1148-4e09-c237-7f0e9fb979d8"
   },
   "outputs": [
    {
     "name": "stdout",
     "output_type": "stream",
     "text": [
      "Model: \"InceptionNet\"\n",
      "__________________________________________________________________________________________________\n",
      " Layer (type)                   Output Shape         Param #     Connected to                     \n",
      "==================================================================================================\n",
      " input_1 (InputLayer)           [(None, 64, 64, 3)]  0           []                               \n",
      "                                                                                                  \n",
      " up_sampling2d (UpSampling2D)   (None, 448, 448, 3)  0           ['input_1[0][0]']                \n",
      "                                                                                                  \n",
      " conv2d (Conv2D)                (None, 224, 224, 64  9472        ['up_sampling2d[0][0]']          \n",
      "                                )                                                                 \n",
      "                                                                                                  \n",
      " max_pooling2d (MaxPooling2D)   (None, 112, 112, 64  0           ['conv2d[0][0]']                 \n",
      "                                )                                                                 \n",
      "                                                                                                  \n",
      " conv2d_1 (Conv2D)              (None, 112, 112, 64  4160        ['max_pooling2d[0][0]']          \n",
      "                                )                                                                 \n",
      "                                                                                                  \n",
      " conv2d_2 (Conv2D)              (None, 112, 112, 19  110784      ['conv2d_1[0][0]']               \n",
      "                                2)                                                                \n",
      "                                                                                                  \n",
      " max_pooling2d_1 (MaxPooling2D)  (None, 56, 56, 192)  0          ['conv2d_2[0][0]']               \n",
      "                                                                                                  \n",
      " conv2d_4 (Conv2D)              (None, 56, 56, 96)   18528       ['max_pooling2d_1[0][0]']        \n",
      "                                                                                                  \n",
      " conv2d_6 (Conv2D)              (None, 56, 56, 16)   3088        ['max_pooling2d_1[0][0]']        \n",
      "                                                                                                  \n",
      " max_pooling2d_2 (MaxPooling2D)  (None, 56, 56, 192)  0          ['max_pooling2d_1[0][0]']        \n",
      "                                                                                                  \n",
      " conv2d_3 (Conv2D)              (None, 56, 56, 64)   12352       ['max_pooling2d_1[0][0]']        \n",
      "                                                                                                  \n",
      " conv2d_5 (Conv2D)              (None, 56, 56, 128)  110720      ['conv2d_4[0][0]']               \n",
      "                                                                                                  \n",
      " conv2d_7 (Conv2D)              (None, 56, 56, 32)   12832       ['conv2d_6[0][0]']               \n",
      "                                                                                                  \n",
      " conv2d_8 (Conv2D)              (None, 56, 56, 32)   6176        ['max_pooling2d_2[0][0]']        \n",
      "                                                                                                  \n",
      " concatenate (Concatenate)      (None, 56, 56, 256)  0           ['conv2d_3[0][0]',               \n",
      "                                                                  'conv2d_5[0][0]',               \n",
      "                                                                  'conv2d_7[0][0]',               \n",
      "                                                                  'conv2d_8[0][0]']               \n",
      "                                                                                                  \n",
      " conv2d_10 (Conv2D)             (None, 56, 56, 128)  32896       ['concatenate[0][0]']            \n",
      "                                                                                                  \n",
      " conv2d_12 (Conv2D)             (None, 56, 56, 32)   8224        ['concatenate[0][0]']            \n",
      "                                                                                                  \n",
      " max_pooling2d_3 (MaxPooling2D)  (None, 56, 56, 256)  0          ['concatenate[0][0]']            \n",
      "                                                                                                  \n",
      " conv2d_9 (Conv2D)              (None, 56, 56, 128)  32896       ['concatenate[0][0]']            \n",
      "                                                                                                  \n",
      " conv2d_11 (Conv2D)             (None, 56, 56, 192)  221376      ['conv2d_10[0][0]']              \n",
      "                                                                                                  \n",
      " conv2d_13 (Conv2D)             (None, 56, 56, 96)   76896       ['conv2d_12[0][0]']              \n",
      "                                                                                                  \n",
      " conv2d_14 (Conv2D)             (None, 56, 56, 64)   16448       ['max_pooling2d_3[0][0]']        \n",
      "                                                                                                  \n",
      " concatenate_1 (Concatenate)    (None, 56, 56, 480)  0           ['conv2d_9[0][0]',               \n",
      "                                                                  'conv2d_11[0][0]',              \n",
      "                                                                  'conv2d_13[0][0]',              \n",
      "                                                                  'conv2d_14[0][0]']              \n",
      "                                                                                                  \n",
      " max_pooling2d_4 (MaxPooling2D)  (None, 28, 28, 480)  0          ['concatenate_1[0][0]']          \n",
      "                                                                                                  \n",
      " conv2d_16 (Conv2D)             (None, 28, 28, 96)   46176       ['max_pooling2d_4[0][0]']        \n",
      "                                                                                                  \n",
      " conv2d_18 (Conv2D)             (None, 28, 28, 16)   7696        ['max_pooling2d_4[0][0]']        \n",
      "                                                                                                  \n",
      " max_pooling2d_5 (MaxPooling2D)  (None, 28, 28, 480)  0          ['max_pooling2d_4[0][0]']        \n",
      "                                                                                                  \n",
      " conv2d_15 (Conv2D)             (None, 28, 28, 192)  92352       ['max_pooling2d_4[0][0]']        \n",
      "                                                                                                  \n",
      " conv2d_17 (Conv2D)             (None, 28, 28, 208)  179920      ['conv2d_16[0][0]']              \n",
      "                                                                                                  \n",
      " conv2d_19 (Conv2D)             (None, 28, 28, 48)   19248       ['conv2d_18[0][0]']              \n",
      "                                                                                                  \n",
      " conv2d_20 (Conv2D)             (None, 28, 28, 64)   30784       ['max_pooling2d_5[0][0]']        \n",
      "                                                                                                  \n",
      " concatenate_2 (Concatenate)    (None, 28, 28, 512)  0           ['conv2d_15[0][0]',              \n",
      "                                                                  'conv2d_17[0][0]',              \n",
      "                                                                  'conv2d_19[0][0]',              \n",
      "                                                                  'conv2d_20[0][0]']              \n",
      "                                                                                                  \n",
      " conv2d_23 (Conv2D)             (None, 28, 28, 112)  57456       ['concatenate_2[0][0]']          \n",
      "                                                                                                  \n",
      " conv2d_25 (Conv2D)             (None, 28, 28, 24)   12312       ['concatenate_2[0][0]']          \n",
      "                                                                                                  \n",
      " max_pooling2d_6 (MaxPooling2D)  (None, 28, 28, 512)  0          ['concatenate_2[0][0]']          \n",
      "                                                                                                  \n",
      " conv2d_22 (Conv2D)             (None, 28, 28, 160)  82080       ['concatenate_2[0][0]']          \n",
      "                                                                                                  \n",
      " conv2d_24 (Conv2D)             (None, 28, 28, 224)  226016      ['conv2d_23[0][0]']              \n",
      "                                                                                                  \n",
      " conv2d_26 (Conv2D)             (None, 28, 28, 64)   38464       ['conv2d_25[0][0]']              \n",
      "                                                                                                  \n",
      " conv2d_27 (Conv2D)             (None, 28, 28, 64)   32832       ['max_pooling2d_6[0][0]']        \n",
      "                                                                                                  \n",
      " concatenate_3 (Concatenate)    (None, 28, 28, 512)  0           ['conv2d_22[0][0]',              \n",
      "                                                                  'conv2d_24[0][0]',              \n",
      "                                                                  'conv2d_26[0][0]',              \n",
      "                                                                  'conv2d_27[0][0]']              \n",
      "                                                                                                  \n",
      " conv2d_29 (Conv2D)             (None, 28, 28, 128)  65664       ['concatenate_3[0][0]']          \n",
      "                                                                                                  \n",
      " conv2d_31 (Conv2D)             (None, 28, 28, 24)   12312       ['concatenate_3[0][0]']          \n",
      "                                                                                                  \n",
      " max_pooling2d_7 (MaxPooling2D)  (None, 28, 28, 512)  0          ['concatenate_3[0][0]']          \n",
      "                                                                                                  \n",
      " conv2d_28 (Conv2D)             (None, 28, 28, 128)  65664       ['concatenate_3[0][0]']          \n",
      "                                                                                                  \n",
      " conv2d_30 (Conv2D)             (None, 28, 28, 256)  295168      ['conv2d_29[0][0]']              \n",
      "                                                                                                  \n",
      " conv2d_32 (Conv2D)             (None, 28, 28, 64)   38464       ['conv2d_31[0][0]']              \n",
      "                                                                                                  \n",
      " conv2d_33 (Conv2D)             (None, 28, 28, 64)   32832       ['max_pooling2d_7[0][0]']        \n",
      "                                                                                                  \n",
      " concatenate_4 (Concatenate)    (None, 28, 28, 512)  0           ['conv2d_28[0][0]',              \n",
      "                                                                  'conv2d_30[0][0]',              \n",
      "                                                                  'conv2d_32[0][0]',              \n",
      "                                                                  'conv2d_33[0][0]']              \n",
      "                                                                                                  \n",
      " conv2d_35 (Conv2D)             (None, 28, 28, 144)  73872       ['concatenate_4[0][0]']          \n",
      "                                                                                                  \n",
      " conv2d_37 (Conv2D)             (None, 28, 28, 32)   16416       ['concatenate_4[0][0]']          \n",
      "                                                                                                  \n",
      " max_pooling2d_8 (MaxPooling2D)  (None, 28, 28, 512)  0          ['concatenate_4[0][0]']          \n",
      "                                                                                                  \n",
      " conv2d_34 (Conv2D)             (None, 28, 28, 112)  57456       ['concatenate_4[0][0]']          \n",
      "                                                                                                  \n",
      " conv2d_36 (Conv2D)             (None, 28, 28, 288)  373536      ['conv2d_35[0][0]']              \n",
      "                                                                                                  \n",
      " conv2d_38 (Conv2D)             (None, 28, 28, 64)   51264       ['conv2d_37[0][0]']              \n",
      "                                                                                                  \n",
      " conv2d_39 (Conv2D)             (None, 28, 28, 64)   32832       ['max_pooling2d_8[0][0]']        \n",
      "                                                                                                  \n",
      " concatenate_5 (Concatenate)    (None, 28, 28, 528)  0           ['conv2d_34[0][0]',              \n",
      "                                                                  'conv2d_36[0][0]',              \n",
      "                                                                  'conv2d_38[0][0]',              \n",
      "                                                                  'conv2d_39[0][0]']              \n",
      "                                                                                                  \n",
      " conv2d_42 (Conv2D)             (None, 28, 28, 160)  84640       ['concatenate_5[0][0]']          \n",
      "                                                                                                  \n",
      " conv2d_44 (Conv2D)             (None, 28, 28, 32)   16928       ['concatenate_5[0][0]']          \n",
      "                                                                                                  \n",
      " max_pooling2d_9 (MaxPooling2D)  (None, 28, 28, 528)  0          ['concatenate_5[0][0]']          \n",
      "                                                                                                  \n",
      " conv2d_41 (Conv2D)             (None, 28, 28, 256)  135424      ['concatenate_5[0][0]']          \n",
      "                                                                                                  \n",
      " conv2d_43 (Conv2D)             (None, 28, 28, 320)  461120      ['conv2d_42[0][0]']              \n",
      "                                                                                                  \n",
      " conv2d_45 (Conv2D)             (None, 28, 28, 128)  102528      ['conv2d_44[0][0]']              \n",
      "                                                                                                  \n",
      " conv2d_46 (Conv2D)             (None, 28, 28, 128)  67712       ['max_pooling2d_9[0][0]']        \n",
      "                                                                                                  \n",
      " concatenate_6 (Concatenate)    (None, 28, 28, 832)  0           ['conv2d_41[0][0]',              \n",
      "                                                                  'conv2d_43[0][0]',              \n",
      "                                                                  'conv2d_45[0][0]',              \n",
      "                                                                  'conv2d_46[0][0]']              \n",
      "                                                                                                  \n",
      " max_pooling2d_10 (MaxPooling2D  (None, 14, 14, 832)  0          ['concatenate_6[0][0]']          \n",
      " )                                                                                                \n",
      "                                                                                                  \n",
      " conv2d_48 (Conv2D)             (None, 14, 14, 160)  133280      ['max_pooling2d_10[0][0]']       \n",
      "                                                                                                  \n",
      " conv2d_50 (Conv2D)             (None, 14, 14, 32)   26656       ['max_pooling2d_10[0][0]']       \n",
      "                                                                                                  \n",
      " max_pooling2d_11 (MaxPooling2D  (None, 14, 14, 832)  0          ['max_pooling2d_10[0][0]']       \n",
      " )                                                                                                \n",
      "                                                                                                  \n",
      " conv2d_47 (Conv2D)             (None, 14, 14, 256)  213248      ['max_pooling2d_10[0][0]']       \n",
      "                                                                                                  \n",
      " conv2d_49 (Conv2D)             (None, 14, 14, 320)  461120      ['conv2d_48[0][0]']              \n",
      "                                                                                                  \n",
      " conv2d_51 (Conv2D)             (None, 14, 14, 128)  102528      ['conv2d_50[0][0]']              \n",
      "                                                                                                  \n",
      " conv2d_52 (Conv2D)             (None, 14, 14, 128)  106624      ['max_pooling2d_11[0][0]']       \n",
      "                                                                                                  \n",
      " concatenate_7 (Concatenate)    (None, 14, 14, 832)  0           ['conv2d_47[0][0]',              \n",
      "                                                                  'conv2d_49[0][0]',              \n",
      "                                                                  'conv2d_51[0][0]',              \n",
      "                                                                  'conv2d_52[0][0]']              \n",
      "                                                                                                  \n",
      " conv2d_54 (Conv2D)             (None, 14, 14, 192)  159936      ['concatenate_7[0][0]']          \n",
      "                                                                                                  \n",
      " conv2d_56 (Conv2D)             (None, 14, 14, 48)   39984       ['concatenate_7[0][0]']          \n",
      "                                                                                                  \n",
      " max_pooling2d_12 (MaxPooling2D  (None, 14, 14, 832)  0          ['concatenate_7[0][0]']          \n",
      " )                                                                                                \n",
      "                                                                                                  \n",
      " conv2d_53 (Conv2D)             (None, 14, 14, 384)  319872      ['concatenate_7[0][0]']          \n",
      "                                                                                                  \n",
      " conv2d_55 (Conv2D)             (None, 14, 14, 384)  663936      ['conv2d_54[0][0]']              \n",
      "                                                                                                  \n",
      " conv2d_57 (Conv2D)             (None, 14, 14, 128)  153728      ['conv2d_56[0][0]']              \n",
      "                                                                                                  \n",
      " conv2d_58 (Conv2D)             (None, 14, 14, 128)  106624      ['max_pooling2d_12[0][0]']       \n",
      "                                                                                                  \n",
      " average_pooling2d_1 (AveragePo  (None, 8, 8, 528)   0           ['concatenate_5[0][0]']          \n",
      " oling2D)                                                                                         \n",
      "                                                                                                  \n",
      " average_pooling2d (AveragePool  (None, 8, 8, 512)   0           ['concatenate_2[0][0]']          \n",
      " ing2D)                                                                                           \n",
      "                                                                                                  \n",
      " concatenate_8 (Concatenate)    (None, 14, 14, 1024  0           ['conv2d_53[0][0]',              \n",
      "                                )                                 'conv2d_55[0][0]',              \n",
      "                                                                  'conv2d_57[0][0]',              \n",
      "                                                                  'conv2d_58[0][0]']              \n",
      "                                                                                                  \n",
      " conv2d_40 (Conv2D)             (None, 8, 8, 128)    67712       ['average_pooling2d_1[0][0]']    \n",
      "                                                                                                  \n",
      " conv2d_21 (Conv2D)             (None, 8, 8, 128)    65664       ['average_pooling2d[0][0]']      \n",
      "                                                                                                  \n",
      " average_pooling2d_2 (AveragePo  (None, 7, 7, 1024)  0           ['concatenate_8[0][0]']          \n",
      " oling2D)                                                                                         \n",
      "                                                                                                  \n",
      " flatten_1 (Flatten)            (None, 8192)         0           ['conv2d_40[0][0]']              \n",
      "                                                                                                  \n",
      " flatten (Flatten)              (None, 8192)         0           ['conv2d_21[0][0]']              \n",
      "                                                                                                  \n",
      " flatten_2 (Flatten)            (None, 50176)        0           ['average_pooling2d_2[0][0]']    \n",
      "                                                                                                  \n",
      " dense_2 (Dense)                (None, 1024)         8389632     ['flatten_1[0][0]']              \n",
      "                                                                                                  \n",
      " dense (Dense)                  (None, 1024)         8389632     ['flatten[0][0]']                \n",
      "                                                                                                  \n",
      " dense_4 (Dense)                (None, 21)           1053717     ['flatten_2[0][0]']              \n",
      "                                                                                                  \n",
      " dense_3 (Dense)                (None, 21)           21525       ['dense_2[0][0]']                \n",
      "                                                                                                  \n",
      " dense_1 (Dense)                (None, 21)           21525       ['dense[0][0]']                  \n",
      "                                                                                                  \n",
      "==================================================================================================\n",
      "Total params: 23,982,959\n",
      "Trainable params: 23,982,959\n",
      "Non-trainable params: 0\n",
      "__________________________________________________________________________________________________\n"
     ]
    }
   ],
   "source": [
    "inception_model = InceptionNet(input_shape=X_train.shape[1:], num_classes=21)\n",
    "inception_model.summary()"
   ]
  },
  {
   "cell_type": "code",
   "execution_count": 11,
   "metadata": {
    "id": "1I9srL9D_TzT"
   },
   "outputs": [],
   "source": [
    "inception_model.compile(\n",
    "    optimizer='adam',\n",
    "    loss='sparse_categorical_crossentropy',\n",
    "    metrics=['accuracy']\n",
    ")"
   ]
  },
  {
   "cell_type": "code",
   "execution_count": 12,
   "metadata": {
    "colab": {
     "base_uri": "https://localhost:8080/"
    },
    "id": "5tVU4hQVal-6",
    "outputId": "16ba66ec-3a35-490a-d178-cea3e6b8897d"
   },
   "outputs": [
    {
     "name": "stdout",
     "output_type": "stream",
     "text": [
      "Epoch 1/30\n",
      "60/60 [==============================] - 63s 457ms/step - loss: 8.0701 - dense_4_loss: 2.7431 - dense_3_loss: 2.7194 - dense_1_loss: 2.6077 - dense_4_accuracy: 0.1026 - dense_3_accuracy: 0.1116 - dense_1_accuracy: 0.1704 - val_loss: 6.6143 - val_dense_4_loss: 2.2884 - val_dense_3_loss: 2.3008 - val_dense_1_loss: 2.0252 - val_dense_4_accuracy: 0.2095 - val_dense_3_accuracy: 0.1952 - val_dense_1_accuracy: 0.2619\n",
      "Epoch 2/30\n",
      "60/60 [==============================] - 22s 364ms/step - loss: 6.3163 - dense_4_loss: 2.2476 - dense_3_loss: 2.1698 - dense_1_loss: 1.8989 - dense_4_accuracy: 0.2228 - dense_3_accuracy: 0.2714 - dense_1_accuracy: 0.3704 - val_loss: 5.9124 - val_dense_4_loss: 2.3453 - val_dense_3_loss: 1.9182 - val_dense_1_loss: 1.6488 - val_dense_4_accuracy: 0.2429 - val_dense_3_accuracy: 0.3619 - val_dense_1_accuracy: 0.4524\n",
      "Epoch 3/30\n",
      "60/60 [==============================] - 22s 366ms/step - loss: 5.3024 - dense_4_loss: 1.9366 - dense_3_loss: 1.8212 - dense_1_loss: 1.5446 - dense_4_accuracy: 0.3392 - dense_3_accuracy: 0.3910 - dense_1_accuracy: 0.4947 - val_loss: 8.1542 - val_dense_4_loss: 3.3273 - val_dense_3_loss: 2.6788 - val_dense_1_loss: 2.1482 - val_dense_4_accuracy: 0.2714 - val_dense_3_accuracy: 0.3238 - val_dense_1_accuracy: 0.3905\n",
      "Epoch 4/30\n",
      "60/60 [==============================] - 21s 351ms/step - loss: 4.8250 - dense_4_loss: 1.7283 - dense_3_loss: 1.6624 - dense_1_loss: 1.4343 - dense_4_accuracy: 0.4418 - dense_3_accuracy: 0.4545 - dense_1_accuracy: 0.5328 - val_loss: 5.3688 - val_dense_4_loss: 2.1151 - val_dense_3_loss: 1.8342 - val_dense_1_loss: 1.4195 - val_dense_4_accuracy: 0.4095 - val_dense_3_accuracy: 0.4095 - val_dense_1_accuracy: 0.5524\n",
      "Epoch 5/30\n",
      "60/60 [==============================] - 21s 350ms/step - loss: 3.9101 - dense_4_loss: 1.4340 - dense_3_loss: 1.3560 - dense_1_loss: 1.1201 - dense_4_accuracy: 0.5328 - dense_3_accuracy: 0.5476 - dense_1_accuracy: 0.6217 - val_loss: 5.1160 - val_dense_4_loss: 1.8253 - val_dense_3_loss: 1.7038 - val_dense_1_loss: 1.5869 - val_dense_4_accuracy: 0.3905 - val_dense_3_accuracy: 0.3810 - val_dense_1_accuracy: 0.4619\n",
      "Epoch 6/30\n",
      "60/60 [==============================] - 21s 352ms/step - loss: 3.3180 - dense_4_loss: 1.2208 - dense_3_loss: 1.1416 - dense_1_loss: 0.9555 - dense_4_accuracy: 0.6011 - dense_3_accuracy: 0.6143 - dense_1_accuracy: 0.6947 - val_loss: 5.3354 - val_dense_4_loss: 2.2167 - val_dense_3_loss: 1.8464 - val_dense_1_loss: 1.2723 - val_dense_4_accuracy: 0.4238 - val_dense_3_accuracy: 0.4810 - val_dense_1_accuracy: 0.5905\n",
      "Epoch 7/30\n",
      "60/60 [==============================] - 22s 362ms/step - loss: 2.8469 - dense_4_loss: 1.0794 - dense_3_loss: 0.9865 - dense_1_loss: 0.7811 - dense_4_accuracy: 0.6455 - dense_3_accuracy: 0.6693 - dense_1_accuracy: 0.7513 - val_loss: 4.3749 - val_dense_4_loss: 1.5807 - val_dense_3_loss: 1.4675 - val_dense_1_loss: 1.3266 - val_dense_4_accuracy: 0.4619 - val_dense_3_accuracy: 0.4952 - val_dense_1_accuracy: 0.5667\n",
      "Epoch 8/30\n",
      "60/60 [==============================] - 21s 350ms/step - loss: 2.1338 - dense_4_loss: 0.8665 - dense_3_loss: 0.7455 - dense_1_loss: 0.5217 - dense_4_accuracy: 0.7153 - dense_3_accuracy: 0.7545 - dense_1_accuracy: 0.8143 - val_loss: 3.7405 - val_dense_4_loss: 1.2844 - val_dense_3_loss: 1.1832 - val_dense_1_loss: 1.2728 - val_dense_4_accuracy: 0.6286 - val_dense_3_accuracy: 0.6095 - val_dense_1_accuracy: 0.6381\n",
      "Epoch 9/30\n",
      "60/60 [==============================] - 21s 352ms/step - loss: 1.6186 - dense_4_loss: 0.6870 - dense_3_loss: 0.5784 - dense_1_loss: 0.3531 - dense_4_accuracy: 0.7656 - dense_3_accuracy: 0.8058 - dense_1_accuracy: 0.8825 - val_loss: 3.7070 - val_dense_4_loss: 1.2534 - val_dense_3_loss: 1.1847 - val_dense_1_loss: 1.2688 - val_dense_4_accuracy: 0.6429 - val_dense_3_accuracy: 0.6857 - val_dense_1_accuracy: 0.7000\n",
      "Epoch 10/30\n",
      "60/60 [==============================] - 21s 352ms/step - loss: 1.3435 - dense_4_loss: 0.5299 - dense_3_loss: 0.4806 - dense_1_loss: 0.3331 - dense_4_accuracy: 0.8254 - dense_3_accuracy: 0.8407 - dense_1_accuracy: 0.8921 - val_loss: 4.1884 - val_dense_4_loss: 1.3577 - val_dense_3_loss: 1.3677 - val_dense_1_loss: 1.4630 - val_dense_4_accuracy: 0.6095 - val_dense_3_accuracy: 0.6714 - val_dense_1_accuracy: 0.6905\n",
      "Epoch 11/30\n",
      "60/60 [==============================] - 22s 360ms/step - loss: 1.3248 - dense_4_loss: 0.5256 - dense_3_loss: 0.4578 - dense_1_loss: 0.3414 - dense_4_accuracy: 0.8291 - dense_3_accuracy: 0.8561 - dense_1_accuracy: 0.9005 - val_loss: 3.6984 - val_dense_4_loss: 1.3399 - val_dense_3_loss: 1.1905 - val_dense_1_loss: 1.1680 - val_dense_4_accuracy: 0.6238 - val_dense_3_accuracy: 0.6476 - val_dense_1_accuracy: 0.7000\n",
      "Epoch 12/30\n",
      "60/60 [==============================] - 22s 360ms/step - loss: 0.8665 - dense_4_loss: 0.3337 - dense_3_loss: 0.3074 - dense_1_loss: 0.2253 - dense_4_accuracy: 0.8878 - dense_3_accuracy: 0.9063 - dense_1_accuracy: 0.9312 - val_loss: 3.8032 - val_dense_4_loss: 1.2685 - val_dense_3_loss: 1.2978 - val_dense_1_loss: 1.2368 - val_dense_4_accuracy: 0.6857 - val_dense_3_accuracy: 0.6667 - val_dense_1_accuracy: 0.7143\n",
      "Epoch 13/30\n",
      "60/60 [==============================] - 21s 352ms/step - loss: 0.6758 - dense_4_loss: 0.2870 - dense_3_loss: 0.2624 - dense_1_loss: 0.1263 - dense_4_accuracy: 0.9069 - dense_3_accuracy: 0.9228 - dense_1_accuracy: 0.9635 - val_loss: 3.7444 - val_dense_4_loss: 1.3555 - val_dense_3_loss: 1.2614 - val_dense_1_loss: 1.1275 - val_dense_4_accuracy: 0.7143 - val_dense_3_accuracy: 0.6857 - val_dense_1_accuracy: 0.7667\n",
      "Epoch 14/30\n",
      "60/60 [==============================] - 21s 352ms/step - loss: 0.4558 - dense_4_loss: 0.2302 - dense_3_loss: 0.1374 - dense_1_loss: 0.0882 - dense_4_accuracy: 0.9270 - dense_3_accuracy: 0.9603 - dense_1_accuracy: 0.9757 - val_loss: 4.2764 - val_dense_4_loss: 1.4451 - val_dense_3_loss: 1.5509 - val_dense_1_loss: 1.2804 - val_dense_4_accuracy: 0.6857 - val_dense_3_accuracy: 0.6952 - val_dense_1_accuracy: 0.7000\n",
      "Epoch 15/30\n",
      "60/60 [==============================] - 21s 352ms/step - loss: 0.3579 - dense_4_loss: 0.1851 - dense_3_loss: 0.1098 - dense_1_loss: 0.0630 - dense_4_accuracy: 0.9429 - dense_3_accuracy: 0.9646 - dense_1_accuracy: 0.9847 - val_loss: 4.4244 - val_dense_4_loss: 1.4468 - val_dense_3_loss: 1.6747 - val_dense_1_loss: 1.3029 - val_dense_4_accuracy: 0.7238 - val_dense_3_accuracy: 0.6952 - val_dense_1_accuracy: 0.7476\n",
      "Epoch 16/30\n",
      "60/60 [==============================] - 22s 361ms/step - loss: 0.4654 - dense_4_loss: 0.2080 - dense_3_loss: 0.1602 - dense_1_loss: 0.0971 - dense_4_accuracy: 0.9439 - dense_3_accuracy: 0.9481 - dense_1_accuracy: 0.9688 - val_loss: 4.6907 - val_dense_4_loss: 1.4010 - val_dense_3_loss: 1.6056 - val_dense_1_loss: 1.6841 - val_dense_4_accuracy: 0.7190 - val_dense_3_accuracy: 0.6952 - val_dense_1_accuracy: 0.6714\n",
      "Epoch 17/30\n",
      "60/60 [==============================] - 22s 361ms/step - loss: 0.1528 - dense_4_loss: 0.0523 - dense_3_loss: 0.0452 - dense_1_loss: 0.0553 - dense_4_accuracy: 0.9852 - dense_3_accuracy: 0.9894 - dense_1_accuracy: 0.9831 - val_loss: 5.0874 - val_dense_4_loss: 1.9799 - val_dense_3_loss: 1.6476 - val_dense_1_loss: 1.4599 - val_dense_4_accuracy: 0.6810 - val_dense_3_accuracy: 0.7333 - val_dense_1_accuracy: 0.7429\n",
      "Epoch 18/30\n",
      "60/60 [==============================] - 22s 361ms/step - loss: 0.2258 - dense_4_loss: 0.0766 - dense_3_loss: 0.0610 - dense_1_loss: 0.0883 - dense_4_accuracy: 0.9799 - dense_3_accuracy: 0.9862 - dense_1_accuracy: 0.9794 - val_loss: 5.2369 - val_dense_4_loss: 2.1564 - val_dense_3_loss: 1.7004 - val_dense_1_loss: 1.3800 - val_dense_4_accuracy: 0.6762 - val_dense_3_accuracy: 0.6857 - val_dense_1_accuracy: 0.7095\n",
      "Epoch 19/30\n",
      "60/60 [==============================] - 21s 351ms/step - loss: 0.2130 - dense_4_loss: 0.0687 - dense_3_loss: 0.1085 - dense_1_loss: 0.0358 - dense_4_accuracy: 0.9794 - dense_3_accuracy: 0.9693 - dense_1_accuracy: 0.9899 - val_loss: 5.5135 - val_dense_4_loss: 2.3998 - val_dense_3_loss: 1.7550 - val_dense_1_loss: 1.3587 - val_dense_4_accuracy: 0.6429 - val_dense_3_accuracy: 0.6905 - val_dense_1_accuracy: 0.7714\n",
      "Epoch 20/30\n",
      "60/60 [==============================] - 21s 352ms/step - loss: 0.1255 - dense_4_loss: 0.0498 - dense_3_loss: 0.0575 - dense_1_loss: 0.0182 - dense_4_accuracy: 0.9857 - dense_3_accuracy: 0.9820 - dense_1_accuracy: 0.9958 - val_loss: 4.5941 - val_dense_4_loss: 1.8481 - val_dense_3_loss: 1.4470 - val_dense_1_loss: 1.2990 - val_dense_4_accuracy: 0.7143 - val_dense_3_accuracy: 0.7381 - val_dense_1_accuracy: 0.7810\n",
      "Epoch 21/30\n",
      "60/60 [==============================] - 22s 361ms/step - loss: 0.0337 - dense_4_loss: 0.0171 - dense_3_loss: 0.0097 - dense_1_loss: 0.0068 - dense_4_accuracy: 0.9963 - dense_3_accuracy: 0.9989 - dense_1_accuracy: 0.9979 - val_loss: 5.4285 - val_dense_4_loss: 2.2780 - val_dense_3_loss: 1.7424 - val_dense_1_loss: 1.4081 - val_dense_4_accuracy: 0.7143 - val_dense_3_accuracy: 0.7333 - val_dense_1_accuracy: 0.7619\n",
      "Epoch 22/30\n",
      "60/60 [==============================] - 22s 361ms/step - loss: 0.0098 - dense_4_loss: 0.0041 - dense_3_loss: 0.0038 - dense_1_loss: 0.0019 - dense_4_accuracy: 0.9989 - dense_3_accuracy: 0.9989 - dense_1_accuracy: 1.0000 - val_loss: 5.7315 - val_dense_4_loss: 2.3954 - val_dense_3_loss: 1.8391 - val_dense_1_loss: 1.4969 - val_dense_4_accuracy: 0.7238 - val_dense_3_accuracy: 0.7381 - val_dense_1_accuracy: 0.7714\n",
      "Epoch 23/30\n",
      "60/60 [==============================] - 21s 353ms/step - loss: 0.0043 - dense_4_loss: 0.0027 - dense_3_loss: 9.6623e-04 - dense_1_loss: 5.9998e-04 - dense_4_accuracy: 0.9989 - dense_3_accuracy: 1.0000 - dense_1_accuracy: 1.0000 - val_loss: 6.1060 - val_dense_4_loss: 2.5891 - val_dense_3_loss: 1.9367 - val_dense_1_loss: 1.5802 - val_dense_4_accuracy: 0.7143 - val_dense_3_accuracy: 0.7381 - val_dense_1_accuracy: 0.7714\n",
      "Epoch 24/30\n",
      "60/60 [==============================] - 21s 352ms/step - loss: 0.0010 - dense_4_loss: 2.5067e-04 - dense_3_loss: 4.2181e-04 - dense_1_loss: 3.4956e-04 - dense_4_accuracy: 1.0000 - dense_3_accuracy: 1.0000 - dense_1_accuracy: 1.0000 - val_loss: 6.5731 - val_dense_4_loss: 2.8134 - val_dense_3_loss: 2.1635 - val_dense_1_loss: 1.5962 - val_dense_4_accuracy: 0.7143 - val_dense_3_accuracy: 0.7333 - val_dense_1_accuracy: 0.7762\n",
      "Epoch 25/30\n",
      "60/60 [==============================] - 21s 351ms/step - loss: 7.2468e-04 - dense_4_loss: 1.5939e-04 - dense_3_loss: 2.8280e-04 - dense_1_loss: 2.8249e-04 - dense_4_accuracy: 1.0000 - dense_3_accuracy: 1.0000 - dense_1_accuracy: 1.0000 - val_loss: 6.8041 - val_dense_4_loss: 2.9788 - val_dense_3_loss: 2.2140 - val_dense_1_loss: 1.6113 - val_dense_4_accuracy: 0.7190 - val_dense_3_accuracy: 0.7286 - val_dense_1_accuracy: 0.7762\n",
      "Epoch 26/30\n",
      "60/60 [==============================] - 21s 351ms/step - loss: 4.7631e-04 - dense_4_loss: 9.1628e-05 - dense_3_loss: 1.5290e-04 - dense_1_loss: 2.3178e-04 - dense_4_accuracy: 1.0000 - dense_3_accuracy: 1.0000 - dense_1_accuracy: 1.0000 - val_loss: 7.0483 - val_dense_4_loss: 3.1204 - val_dense_3_loss: 2.3057 - val_dense_1_loss: 1.6222 - val_dense_4_accuracy: 0.7286 - val_dense_3_accuracy: 0.7286 - val_dense_1_accuracy: 0.7762\n",
      "Epoch 27/30\n",
      "60/60 [==============================] - 21s 351ms/step - loss: 3.6561e-04 - dense_4_loss: 6.2770e-05 - dense_3_loss: 1.0032e-04 - dense_1_loss: 2.0253e-04 - dense_4_accuracy: 1.0000 - dense_3_accuracy: 1.0000 - dense_1_accuracy: 1.0000 - val_loss: 7.4205 - val_dense_4_loss: 3.3260 - val_dense_3_loss: 2.4602 - val_dense_1_loss: 1.6343 - val_dense_4_accuracy: 0.7143 - val_dense_3_accuracy: 0.7333 - val_dense_1_accuracy: 0.7714\n",
      "Epoch 28/30\n",
      "60/60 [==============================] - 22s 361ms/step - loss: 2.9204e-04 - dense_4_loss: 4.4771e-05 - dense_3_loss: 7.0944e-05 - dense_1_loss: 1.7633e-04 - dense_4_accuracy: 1.0000 - dense_3_accuracy: 1.0000 - dense_1_accuracy: 1.0000 - val_loss: 7.5632 - val_dense_4_loss: 3.4107 - val_dense_3_loss: 2.5070 - val_dense_1_loss: 1.6456 - val_dense_4_accuracy: 0.7143 - val_dense_3_accuracy: 0.7333 - val_dense_1_accuracy: 0.7762\n",
      "Epoch 29/30\n",
      "60/60 [==============================] - 21s 352ms/step - loss: 2.4058e-04 - dense_4_loss: 3.1085e-05 - dense_3_loss: 5.0903e-05 - dense_1_loss: 1.5859e-04 - dense_4_accuracy: 1.0000 - dense_3_accuracy: 1.0000 - dense_1_accuracy: 1.0000 - val_loss: 7.8449 - val_dense_4_loss: 3.5689 - val_dense_3_loss: 2.6114 - val_dense_1_loss: 1.6646 - val_dense_4_accuracy: 0.7190 - val_dense_3_accuracy: 0.7429 - val_dense_1_accuracy: 0.7714\n",
      "Epoch 30/30\n",
      "60/60 [==============================] - 21s 352ms/step - loss: 2.0378e-04 - dense_4_loss: 2.7606e-05 - dense_3_loss: 3.6612e-05 - dense_1_loss: 1.3957e-04 - dense_4_accuracy: 1.0000 - dense_3_accuracy: 1.0000 - dense_1_accuracy: 1.0000 - val_loss: 8.2038 - val_dense_4_loss: 3.8009 - val_dense_3_loss: 2.7147 - val_dense_1_loss: 1.6882 - val_dense_4_accuracy: 0.7238 - val_dense_3_accuracy: 0.7333 - val_dense_1_accuracy: 0.7714\n"
     ]
    },
    {
     "data": {
      "text/plain": [
       "<keras.callbacks.History at 0x7cc445b45690>"
      ]
     },
     "execution_count": 12,
     "metadata": {},
     "output_type": "execute_result"
    }
   ],
   "source": [
    "inception_model.fit(\n",
    "    X_train, y_train,\n",
    "    validation_data=(X_test, y_test),\n",
    "    epochs=30\n",
    ")"
   ]
  }
 ],
 "metadata": {
  "accelerator": "GPU",
  "colab": {
   "gpuType": "T4",
   "provenance": []
  },
  "kernelspec": {
   "display_name": "Python 3 (ipykernel)",
   "language": "python",
   "name": "python3"
  },
  "language_info": {
   "codemirror_mode": {
    "name": "ipython",
    "version": 3
   },
   "file_extension": ".py",
   "mimetype": "text/x-python",
   "name": "python",
   "nbconvert_exporter": "python",
   "pygments_lexer": "ipython3",
   "version": "3.10.9"
  }
 },
 "nbformat": 4,
 "nbformat_minor": 4
}
